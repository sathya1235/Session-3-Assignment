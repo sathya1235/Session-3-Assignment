{
 "cells": [
  {
   "cell_type": "code",
   "execution_count": 1,
   "metadata": {},
   "outputs": [],
   "source": [
    "#1.1 Write a Python Program to implement your own myreduce() function\n",
    "#    which works exactly like Python's built-in function reduce()   "
   ]
  },
  {
   "cell_type": "code",
   "execution_count": 7,
   "metadata": {},
   "outputs": [
    {
     "name": "stdout",
     "output_type": "stream",
     "text": [
      "Reduce with 3 arguments:  20\n",
      "Reduce with 2 arguments:  5\n",
      "Reduce with 2 arguments(with empty list):  None\n",
      "Reduce with 3 arguments(with empty list):  6\n"
     ]
    }
   ],
   "source": [
    "lst1=[1,2,3,4,5]  # List with  values\n",
    "lst2=[]           # Empty list\n",
    "lst3=[5]          # List with single value\n",
    "def myreduce(expr,args,initval=''):  # myreduce() function\n",
    "    if len(args) == 0:            # checks length of the list\n",
    "        if initval=='':           # checking optional value\n",
    "            return None           # if list is empty and optional value is not given, return  None\n",
    "        else:\n",
    "            return initval         # if list is empty and optional value is available, return optional value\n",
    "    elif (len(args)> 0 and initval==''): # checking list length and optional value\n",
    "        result = args[0]           # if list is not empty and optional value is not given, assigning result list to first value in the list\n",
    "        rstart=1                   # Setting starting flag to 1 - telling for loop to start from 1\n",
    "        \n",
    "    else:\n",
    "        result = initval           # if list is not empty and optional value is given, assigning result list to optional value \n",
    "        rstart=0                   # Setting starting flag to 0 - telling for loop to start from 0\n",
    "\n",
    "    for i in range(rstart, len(args)):\n",
    "        result = expr(result, args[i]) # lambda expression is evaluated\n",
    "    return result                      # returns the generated list\n",
    "\n",
    "print(\"Reduce with 3 arguments: \",myreduce(lambda x,y: x+y, lst1,5)) #list with initial value check        \n",
    "print(\"Reduce with 2 arguments: \",myreduce(lambda x,y: x+y, lst3))  # List with single value check\n",
    "print(\"Reduce with 2 arguments(with empty list): \",myreduce(lambda x,y: x+y, lst2))  # Empty List check\n",
    "print(\"Reduce with 3 arguments(with empty list): \",myreduce(lambda x,y: x*y, lst2,6))  # Empty list and initial value check\n"
   ]
  },
  {
   "cell_type": "code",
   "execution_count": null,
   "metadata": {},
   "outputs": [],
   "source": [
    "#1.2 Write a Python program to implement your own myfilter() function \n",
    "#    which works exactly like Python's built-in function filter() "
   ]
  },
  {
   "cell_type": "code",
   "execution_count": 9,
   "metadata": {},
   "outputs": [
    {
     "name": "stdout",
     "output_type": "stream",
     "text": [
      "Filter with List:  [22, 34, 4, 786]\n",
      "Filter with Single value in list:  [8]\n",
      "Filter with Empty list:  []\n"
     ]
    }
   ],
   "source": [
    "lst1=[13,22,34,4,55,47,786] # list with values\n",
    "lst2=[]                     # Empty list\n",
    "lst3=[8]                    # List with single value\n",
    "def myfilter(expr,args):    # myfilter() function\n",
    "    result=[]\n",
    "    if len(args) == 0:      # Checks length of the given list\n",
    "        return result         # if list length is zero, return empty list\n",
    "    else:\n",
    "        for i in range(0,len(args)):  # iterating the list\n",
    "            if(expr(args[i]) is True): # if expression is true append the values to result list\n",
    "                result.append(args[i])\n",
    "        return result\n",
    "\n",
    "print(\"Filter with List: \",myfilter(lambda x: x%2==0, lst1))         # list with more values check\n",
    "print(\"Filter with Single value in list: \",myfilter(lambda x:x%2==0, lst3))  # List with single value check\n",
    "print(\"Filter with Empty list: \",myfilter(lambda x: x%2==0, lst2))  # Empty List check\n",
    "\n",
    "\n"
   ]
  },
  {
   "cell_type": "code",
   "execution_count": null,
   "metadata": {},
   "outputs": [],
   "source": [
    "#2. Implement List comprehensions to produce the following lists.  \n",
    "#   Write List comprehensions to produce the following Lists  \n",
    "#['A', 'C', 'A', 'D', 'G', 'I', ’L’, ‘ D’]  \n",
    "#['x', 'xx', 'xxx', 'xxxx', 'y', 'yy', 'yyy', 'yyyy', 'z', 'zz', 'zzz', 'zzzz']  \n",
    "# ['x', 'y', 'z', 'xx', 'yy', 'zz', 'xxx', 'yyy', 'zzz', 'xxxx', 'yyyy', 'zzzz']  \n",
    "#[[2], [3], [4], [3], [4], [5], [4], [5], [6]]  \n",
    "#[[2, 3, 4, 5], [3, 4, 5, 6], [4, 5, 6, 7], [5, 6, 7, 8]]  \n",
    "#[(1, 1), (2, 1), (3, 1), (1, 2), (2, 2), (3, 2), (1, 3), (2, 3), (3, 3)] "
   ]
  },
  {
   "cell_type": "code",
   "execution_count": 21,
   "metadata": {},
   "outputs": [
    {
     "name": "stdout",
     "output_type": "stream",
     "text": [
      "['A', 'C', 'A', 'D', 'G', 'I', 'L', 'D']\n",
      "['x', 'xx', 'xxx', 'xxxx', 'y', 'yy', 'yyy', 'yyyy', 'z', 'zz', 'zzz', 'zzzz']\n",
      "['x', 'y', 'z', 'xx', 'yy', 'zz', 'xxx', 'yyy', 'zzz', 'xxxx', 'yyyy', 'zzzz']\n",
      "[[2], [3], [4], [3], [4], [5], [4], [5], [6]]\n",
      "[[2, 3, 4, 5], [3, 4, 5, 6], [4, 5, 6, 7], [5, 6, 7, 8]]\n",
      "[(1, 1), (2, 1), (3, 1), (1, 2), (2, 2), (3, 2), (1, 3), (2, 3), (3, 3)]\n"
     ]
    }
   ],
   "source": [
    "#List Comprehensions\n",
    "\n",
    "inputStr = \"ACADGILD\"\n",
    "inputlist = ['x','y','z']\n",
    "\n",
    "#['A', 'C', 'A', 'D', 'G', 'I', ’L’, ‘ D’]\n",
    "output1 = [letter for letter in inputStr] # coverts String to list\n",
    "print(output1)\n",
    "\n",
    "#['x', 'xx', 'xxx', 'xxxx', 'y', 'yy', 'yyy', 'yyyy', 'z', 'zz', 'zzz', 'zzzz']\n",
    "output2 = [item*num for item in inputlist for num in range(1,5)] # Nested for loop in a single list comprehension\n",
    "print(output2)\n",
    "\n",
    "#['x', 'y', 'z', 'xx', 'yy', 'zz', 'xxx', 'yyy', 'zzz', 'xxxx', 'yyyy', 'zzzz'] \n",
    "output3 = [item*num for num in range(1,5) for item in inputlist] # Nested for loop in a single list comprehension\n",
    "print(output3)\n",
    "\n",
    "#[[2], [3], [4], [3], [4], [5], [4], [5], [6]]  \n",
    "output4 = [[item+num] for num in range(0,3) for item in range(2,5) ] # Nested for loop in a single list comprehension\n",
    "print(output4)\n",
    "\n",
    "#[[2, 3, 4, 5], [3, 4, 5, 6], [4, 5, 6, 7], [5, 6, 7, 8]] \n",
    "output5 = [[item+num for item in range(2,6)] for num in range(0,4)  ] # Nested for loop in a single list comprehension\n",
    "print(output5)\n",
    "\n",
    "#[(1, 1), (2, 1), (3, 1), (1, 2), (2, 2), (3, 2), (1, 3), (2, 3), (3, 3)]  \n",
    "output6 = [(item,num) for num in range(1,4) for item in range(1,4)  ] # Nested for loop in a single list comprehension\n",
    "print(output6)"
   ]
  },
  {
   "cell_type": "code",
   "execution_count": null,
   "metadata": {},
   "outputs": [],
   "source": [
    "#3. Implement a function longestWord() that takes a list of words and returns the longest one.   "
   ]
  },
  {
   "cell_type": "code",
   "execution_count": 6,
   "metadata": {},
   "outputs": [
    {
     "name": "stdout",
     "output_type": "stream",
     "text": [
      "Enter the List of words :sathya doing acadgild assignments ^&^*&(*&(*^*&%*^*&(*\n"
     ]
    },
    {
     "data": {
      "text/plain": [
       "'assignments'"
      ]
     },
     "execution_count": 6,
     "metadata": {},
     "output_type": "execute_result"
    }
   ],
   "source": [
    "# longestWord() function\n",
    "def longestWord(inputlist):\n",
    "    for word in inputlist:\n",
    "        if not word.isalnum():     # check for non - alphanumeric / special characters in the list\n",
    "            inputlist = inputlist.replace(word, ' ')  # replaces special characters with white space\n",
    "    return max(inputlist.split(), key=len)  # returns longest word in the list\n",
    "    \n",
    "# Getting the input from the user    \n",
    "wordslist= input(\"Enter the List of words :\")\n",
    "longestWord(wordslist) # returns longest word in the list"
   ]
  }
 ],
 "metadata": {
  "kernelspec": {
   "display_name": "Python 3",
   "language": "python",
   "name": "python3"
  },
  "language_info": {
   "codemirror_mode": {
    "name": "ipython",
    "version": 3
   },
   "file_extension": ".py",
   "mimetype": "text/x-python",
   "name": "python",
   "nbconvert_exporter": "python",
   "pygments_lexer": "ipython3",
   "version": "3.7.0"
  }
 },
 "nbformat": 4,
 "nbformat_minor": 2
}
